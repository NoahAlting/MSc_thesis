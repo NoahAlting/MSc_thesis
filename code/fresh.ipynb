{
 "cells": [
  {
   "cell_type": "code",
   "execution_count": 1,
   "metadata": {},
   "outputs": [
    {
     "name": "stdout",
     "output_type": "stream",
     "text": [
      "Jupyter environment detected. Enabling Open3D WebVisualizer.\n",
      "[Open3D INFO] WebRTC GUI backend enabled.\n",
      "[Open3D INFO] WebRTCWindowSystem: HTTP handshake server disabled.\n"
     ]
    }
   ],
   "source": [
    "import numpy as np\n",
    "import rerun as rr\n",
    "import laspy\n",
    "import os\n",
    "import open3d as o3d\n"
   ]
  },
  {
   "cell_type": "code",
   "execution_count": 2,
   "metadata": {},
   "outputs": [],
   "source": [
    "def get_ndvi(red, nir):\n",
    "    red = np.array(red, dtype=np.float64)\n",
    "    nir = np.array(nir, dtype=np.float64)\n",
    "\n",
    "    red = red / 65535\n",
    "    nir = nir / 255\n",
    "\n",
    "    return (nir - red) / (nir + 1e-8)"
   ]
  },
  {
   "cell_type": "code",
   "execution_count": 3,
   "metadata": {},
   "outputs": [],
   "source": [
    "input_file = os.path.join('..', 'data', 'bws_100.LAZ')\n",
    "\n",
    "with laspy.open(input_file) as f:\n",
    "    las = f.read()\n",
    "\n",
    "    red = las.red\n",
    "    nir = las.nir\n"
   ]
  },
  {
   "cell_type": "code",
   "execution_count": 4,
   "metadata": {},
   "outputs": [],
   "source": [
    "ndvi = get_ndvi(red, nir)\n",
    "\n",
    "out_las = las\n",
    "out_las.add_extra_dim(laspy.ExtraBytesParams(name='ndvi', type=np.float32))\n",
    "out_las.ndvi = ndvi"
   ]
  },
  {
   "cell_type": "code",
   "execution_count": 12,
   "metadata": {},
   "outputs": [],
   "source": [
    "# Filter 1: Filter out points with NDVI value under threshold\n",
    "ndvi_threshold = -0.2\n",
    "out_las = out_las[out_las.ndvi > ndvi_threshold]\n",
    "\n",
    "# Filter 2: Remove points with single return\n",
    "out_las = out_las[out_las.number_of_returns > 1]\n",
    "\n",
    "# Filter 3: Remove last return of all remaining points\n",
    "out_las = out_las[out_las.return_number != out_las.number_of_returns]\n"
   ]
  },
  {
   "cell_type": "code",
   "execution_count": 13,
   "metadata": {},
   "outputs": [],
   "source": [
    "# Remove outliers using SOR\n",
    "def remove_outliers(las_data, nb_neighbors=20, std_ratio=2.0):\n",
    "    # Convert LAS data to Open3D point cloud\n",
    "    xyz = np.vstack((las_data.x, las_data.y, las_data.z)).transpose()\n",
    "    pcd = o3d.geometry.PointCloud()\n",
    "    pcd.points = o3d.utility.Vector3dVector(xyz)\n",
    "\n",
    "    # Perform statistical outlier removal\n",
    "    cl, ind = pcd.remove_statistical_outlier(nb_neighbors=nb_neighbors, std_ratio=std_ratio)\n",
    "    \n",
    "    # Filter the original LAS data\n",
    "    filtered_las = las_data[ind]\n",
    "    \n",
    "    return filtered_las\n",
    "\n",
    "# After your previous filtering steps:\n",
    "out_las = remove_outliers(out_las, 20, 2.0)"
   ]
  },
  {
   "cell_type": "code",
   "execution_count": null,
   "metadata": {},
   "outputs": [
    {
     "ename": "NameError",
     "evalue": "name 'nir_values' is not defined",
     "output_type": "error",
     "traceback": [
      "\u001b[1;31m---------------------------------------------------------------------------\u001b[0m",
      "\u001b[1;31mNameError\u001b[0m                                 Traceback (most recent call last)",
      "Cell \u001b[1;32mIn[17], line 38\u001b[0m\n\u001b[0;32m     34\u001b[0m     rr\u001b[38;5;241m.\u001b[39mlog(\u001b[38;5;124m\"\u001b[39m\u001b[38;5;124minfo\u001b[39m\u001b[38;5;124m\"\u001b[39m, rr\u001b[38;5;241m.\u001b[39mTextLog(\u001b[38;5;124m\"\u001b[39m\u001b[38;5;124mPoint cloud: Red channel = Red band, Green channel = NDVI, Blue channel = NIR band. Hover for values.\u001b[39m\u001b[38;5;124m\"\u001b[39m))\n\u001b[0;32m     36\u001b[0m     \u001b[38;5;28mprint\u001b[39m(\u001b[38;5;124mf\u001b[39m\u001b[38;5;124m\"\u001b[39m\u001b[38;5;124mVisualization ready. Run \u001b[39m\u001b[38;5;124m'\u001b[39m\u001b[38;5;124mrerun\u001b[39m\u001b[38;5;124m'\u001b[39m\u001b[38;5;124m in terminal to view.\u001b[39m\u001b[38;5;124m\"\u001b[39m)\n\u001b[1;32m---> 38\u001b[0m \u001b[43mvisualize_point_cloud_with_rerun\u001b[49m\u001b[43m(\u001b[49m\u001b[43mout_las\u001b[49m\u001b[43m)\u001b[49m\n",
      "Cell \u001b[1;32mIn[17], line 13\u001b[0m, in \u001b[0;36mvisualize_point_cloud_with_rerun\u001b[1;34m(las_data)\u001b[0m\n\u001b[0;32m     10\u001b[0m ndvi \u001b[38;5;241m=\u001b[39m get_ndvi(las_data\u001b[38;5;241m.\u001b[39mred, las_data\u001b[38;5;241m.\u001b[39mnir)\n\u001b[0;32m     12\u001b[0m \u001b[38;5;66;03m# Normalize NIR and Red values to 0-1 range\u001b[39;00m\n\u001b[1;32m---> 13\u001b[0m nir_normalized \u001b[38;5;241m=\u001b[39m (\u001b[43mnir_values\u001b[49m \u001b[38;5;241m-\u001b[39m np\u001b[38;5;241m.\u001b[39mmin(nir_values)) \u001b[38;5;241m/\u001b[39m (np\u001b[38;5;241m.\u001b[39mmax(nir_values) \u001b[38;5;241m-\u001b[39m np\u001b[38;5;241m.\u001b[39mmin(nir_values))\n\u001b[0;32m     14\u001b[0m red_normalized \u001b[38;5;241m=\u001b[39m (red_values \u001b[38;5;241m-\u001b[39m np\u001b[38;5;241m.\u001b[39mmin(red_values)) \u001b[38;5;241m/\u001b[39m (np\u001b[38;5;241m.\u001b[39mmax(red_values) \u001b[38;5;241m-\u001b[39m np\u001b[38;5;241m.\u001b[39mmin(red_values))\n\u001b[0;32m     16\u001b[0m \u001b[38;5;66;03m# Create color array: Red channel for Red values, Green for NDVI, Blue for NIR\u001b[39;00m\n",
      "\u001b[1;31mNameError\u001b[0m: name 'nir_values' is not defined"
     ]
    }
   ],
   "source": [
    "def visualize_point_cloud_with_rerun(las_data):\n",
    "    # Initialize rerun\n",
    "    rr.init(\"LAS Point Cloud Viewer - NDVI, NIR, Red\", spawn=True)\n",
    "\n",
    "    # Check if red and nir bands exist\n",
    "    if not (hasattr(las_data, 'red') and hasattr(las_data, 'nir')):\n",
    "        raise ValueError(\"The LAS file does not contain 'red' and 'nir' bands required for NDVI calculation.\")\n",
    "\n",
    "    # Calculate NDVI\n",
    "    ndvi = get_ndvi(las_data.red, las_data.nir)\n",
    "\n",
    "    points = np.column_stack((las_data.x, las_data.y, las_data.z))\n",
    "    ndvi_values = ndvi\n",
    "    nir_values = las_data.nir\n",
    "    red_values = las_data.red\n",
    "\n",
    "    # Normalize NIR and Red values to 0-1 range\n",
    "    nir_normalized = (nir_values - np.min(nir_values)) / (np.max(nir_values) - np.min(nir_values))\n",
    "    red_normalized = (red_values - np.min(red_values)) / (np.max(red_values) - np.min(red_values))\n",
    "\n",
    "    # Create color array: Red channel for Red values, Green for NDVI, Blue for NIR\n",
    "    colors = np.column_stack((\n",
    "        red_normalized,\n",
    "        (ndvi_values + 1) / 2,  # NDVI is already in [-1, 1] range, normalize to [0, 1]\n",
    "        nir_normalized\n",
    "    ))\n",
    "\n",
    "    # Log the point cloud to rerun\n",
    "    rr.log(\"point_cloud\", \n",
    "           rr.Points3D(\n",
    "               positions=points,\n",
    "               colors=colors,\n",
    "               #radii=0.5,  # Adjust point size as needed\n",
    "               labels=[f\"NDVI: {ndvi:.3f}, NIR: {nir:.3f}, Red: {red:.3f}\" \n",
    "                       for ndvi, nir, red in zip(ndvi_values, nir_values, red_values)]\n",
    "           ))\n",
    "\n",
    "    # Log some text to provide context\n",
    "    rr.log(\"info\", rr.TextLog(\"Point cloud: Red channel = Red band, Green channel = NDVI, Blue channel = NIR band. Hover for values.\"))\n",
    "\n",
    "    print(f\"Visualization ready. Run 'rerun' in terminal to view.\")\n",
    "\n",
    "visualize_point_cloud_with_rerun(out_las)"
   ]
  },
  {
   "cell_type": "code",
   "execution_count": null,
   "metadata": {},
   "outputs": [],
   "source": []
  }
 ],
 "metadata": {
  "kernelspec": {
   "display_name": "msc-thesis-Bfcf3o9x-py3.11",
   "language": "python",
   "name": "python3"
  },
  "language_info": {
   "codemirror_mode": {
    "name": "ipython",
    "version": 3
   },
   "file_extension": ".py",
   "mimetype": "text/x-python",
   "name": "python",
   "nbconvert_exporter": "python",
   "pygments_lexer": "ipython3",
   "version": "3.11.9"
  }
 },
 "nbformat": 4,
 "nbformat_minor": 2
}
