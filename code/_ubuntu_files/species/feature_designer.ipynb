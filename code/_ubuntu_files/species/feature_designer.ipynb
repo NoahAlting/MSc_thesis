{
 "cells": [
  {
   "cell_type": "code",
   "execution_count": 15,
   "metadata": {},
   "outputs": [],
   "source": [
    "import laspy\n",
    "import pandas as pd\n",
    "import rerun as rr\n",
    "import numpy as np\n",
    "import matplotlib.pyplot as plt\n",
    "import matplotlib.colors as mcolors"
   ]
  },
  {
   "cell_type": "code",
   "execution_count": 2,
   "metadata": {},
   "outputs": [],
   "source": [
    "laz_file_path = \"whm_01_tid.laz\""
   ]
  },
  {
   "cell_type": "code",
   "execution_count": 42,
   "metadata": {},
   "outputs": [
    {
     "name": "stdout",
     "output_type": "stream",
     "text": [
      "<class 'pandas.core.frame.DataFrame'>\n",
      "RangeIndex: 222529 entries, 0 to 222528\n",
      "Data columns (total 11 columns):\n",
      " #   Column   Non-Null Count   Dtype  \n",
      "---  ------   --------------   -----  \n",
      " 0   X        222529 non-null  float64\n",
      " 1   Y        222529 non-null  float64\n",
      " 2   Z        222529 non-null  float64\n",
      " 3   red      222529 non-null  uint16 \n",
      " 4   green    222529 non-null  uint16 \n",
      " 5   blue     222529 non-null  uint16 \n",
      " 6   nir      222529 non-null  uint16 \n",
      " 7   ndvi     222529 non-null  float32\n",
      " 8   norm_g   222529 non-null  float32\n",
      " 9   mtvi2    222529 non-null  float32\n",
      " 10  tree_id  222529 non-null  int32  \n",
      "dtypes: float32(3), float64(3), int32(1), uint16(4)\n",
      "memory usage: 10.2 MB\n"
     ]
    }
   ],
   "source": [
    "# Open the LAZ file and extract attributes\n",
    "with laspy.open(laz_file_path) as las:\n",
    "    points = las.read()\n",
    "    attributes = {dimension.name: getattr(points, dimension.name) for dimension in points.point_format}\n",
    "    df_pcd = pd.DataFrame(attributes)\n",
    "\n",
    "# Drop irrelevant columns\n",
    "df_pcd = df_pcd[['X', 'Y', 'Z', 'red', 'green', 'blue', 'nir', 'ndvi', 'norm_g', 'mtvi2', 'tree_id']]\n",
    "\n",
    "# Convert LAS scaled integer coordinates to floating-point coordinates\n",
    "scale = las.header.scales\n",
    "offset = las.header.offsets\n",
    "df_pcd['X'] = df_pcd['X'] * scale[0] + offset[0]\n",
    "df_pcd['Y'] = df_pcd['Y'] * scale[1] + offset[1]\n",
    "df_pcd['Z'] = df_pcd['Z'] * scale[2] + offset[2]\n",
    "\n",
    "# Show dataset info\n",
    "df_pcd.info()"
   ]
  },
  {
   "cell_type": "code",
   "execution_count": 40,
   "metadata": {},
   "outputs": [
    {
     "name": "stdout",
     "output_type": "stream",
     "text": [
      "<class 'pandas.core.frame.DataFrame'>\n",
      "RangeIndex: 26 entries, 0 to 25\n",
      "Data columns (total 7 columns):\n",
      " #   Column      Non-Null Count  Dtype  \n",
      "---  ------      --------------  -----  \n",
      " 0   tree_id     26 non-null     int32  \n",
      " 1   Z_mean      26 non-null     float64\n",
      " 2   Z_min       26 non-null     float64\n",
      " 3   Z_max       26 non-null     float64\n",
      " 4   Z_median    26 non-null     float64\n",
      " 5   ndvi_mean   26 non-null     float32\n",
      " 6   mtvi2_mean  26 non-null     float32\n",
      "dtypes: float32(2), float64(4), int32(1)\n",
      "memory usage: 1.2 KB\n",
      "Available tree IDs: [-1  0  1  2  3  4  5  6  7  8  9 10 11 12 13 14 15 16 17 18 19 20 21 22\n",
      " 23 24]\n"
     ]
    }
   ],
   "source": [
    "df_tree_summary = df_pcd.groupby('tree_id').agg({\n",
    "    'Z': ['mean', 'min', 'max', 'median'],\n",
    "    'ndvi': 'mean',\n",
    "    'mtvi2': 'mean'\n",
    "}).reset_index()\n",
    "\n",
    "df_tree_summary.columns = ['tree_id', 'Z_mean', 'Z_min', 'Z_max', 'Z_median', 'ndvi_mean', 'mtvi2_mean']\n",
    "df_tree_summary.info()\n",
    "\n",
    "available_tree_ids = df_pcd['tree_id'].unique().tolist()\n",
    "print(\"Available tree IDs:\", np.sort(available_tree_ids))"
   ]
  },
  {
   "cell_type": "code",
   "execution_count": 47,
   "metadata": {},
   "outputs": [],
   "source": [
    "# Normalize feature values to [0,1]\n",
    "def normalize_array(arr):\n",
    "    arr = np.nan_to_num(arr, nan=np.nanmin(arr))  # Replace NaNs with min value\n",
    "    return (arr - np.min(arr)) / (np.max(arr) - np.min(arr) + 1e-10)  # Avoid division by zero\n",
    "\n",
    "# Apply colormap to normalized values\n",
    "def apply_colormap(values, colormap_name=\"viridis\"):\n",
    "    cmap = plt.get_cmap(colormap_name)\n",
    "    return cmap(values)[:, :3]  # Extract RGB (ignore alpha)\n",
    "\n",
    "def normalize_rgb(rgb_array):\n",
    "    \"\"\"Normalize 16-bit RGB values to 8-bit (0-255) without modifying the DataFrame.\"\"\"\n",
    "    return (rgb_array / rgb_array.max(axis=0) * 255).astype(np.uint8)"
   ]
  },
  {
   "cell_type": "code",
   "execution_count": null,
   "metadata": {},
   "outputs": [],
   "source": [
    "# Main function to add a new visualization timestamp\n",
    "def show_tree_feature(df_pcd: pd.DataFrame, tree_id: int, feature_name='RGB', colormap_name=\"viridis\"):\n",
    "    df_tree = df_pcd[df_pcd['tree_id'] == tree_id].copy()\n",
    "\n",
    "    if df_tree.empty:\n",
    "        print(f\"No points found for tree_id={tree_id}.\")\n",
    "        return\n",
    "    \n",
    "    if feature_name != 'RGB' and not feature_name in df_pcd.columns:\n",
    "        print(f\"Feature '{feature_name}' not found in DataFrame.\")\n",
    "        return\n",
    "\n",
    "    # Connect to Rerun viewer\n",
    "    rr.init(f\"tree_{tree_id}\", spawn=False)\n",
    "    rr.connect_tcp(\"127.0.0.1:9876\")  # Use default Rerun port\n",
    "\n",
    "    # Create a new time sequence for this feature\n",
    "    rr.set_time_sequence(str(feature_name), 0)\n",
    "\n",
    "    if feature_name == 'RGB':\n",
    "        rgb_values = df_pcd[['red', 'green', 'blue']].values\n",
    "        feature_colors = normalize_rgb(rgb_values)\n",
    "    else:\n",
    "        feature_values = df_tree[feature_name].values\n",
    "        normalized_values = normalize_array(feature_values)\n",
    "        feature_colors = (apply_colormap(normalized_values, colormap_name) * 255).astype(np.uint8)\n",
    "\n",
    "    # if feature_name == 'rgb':\n",
    "    #     # Extract and normalize RGB values without modifying df_pcd\n",
    "    #     rgb_values = df_pcd[['red', 'green', 'blue']].values\n",
    "    #     normalized_rgb = normalize_rgb(rgb_values)\n",
    "    #     # Log the point cloud with original color\n",
    "    #     rr.log(\n",
    "    #         f\"RGB\",  \n",
    "    #         rr.Points3D(\n",
    "    #             positions=df_tree[['X', 'Y', 'Z']].values,\n",
    "    #             colors=normalized_rgb\n",
    "    #         )\n",
    "    #     )\n",
    "    # else:    \n",
    "    #     # Normalize feature values and apply colormap\n",
    "    #     feature_values = df_tree[feature_name].values\n",
    "    #     normalized_values = normalize_array(feature_values)\n",
    "    #     feature_colors = (apply_colormap(normalized_values, colormap_name) * 255).astype(np.uint8)\n",
    "\n",
    "    #     # Log points with feature-based colors\n",
    "    rr.log(\n",
    "        str(feature_name),  \n",
    "        rr.Points3D(\n",
    "            positions=df_tree[['X', 'Y', 'Z']].values,\n",
    "            colors=feature_colors\n",
    "        )\n",
    "    )\n",
    "\n",
    "    print(f\"Added visualization for feature:\\t{feature_name}\")\n"
   ]
  },
  {
   "cell_type": "code",
   "execution_count": 57,
   "metadata": {},
   "outputs": [
    {
     "name": "stdout",
     "output_type": "stream",
     "text": [
      "Feature 'RGB' not found in DataFrame.\n"
     ]
    }
   ],
   "source": [
    "tree_id = 7\n",
    "\n",
    "show_tree_feature(df_pcd, tree_id)"
   ]
  },
  {
   "cell_type": "code",
   "execution_count": null,
   "metadata": {},
   "outputs": [],
   "source": []
  }
 ],
 "metadata": {
  "kernelspec": {
   "display_name": "desktop-u2pU9BIP-py3.11",
   "language": "python",
   "name": "python3"
  },
  "language_info": {
   "codemirror_mode": {
    "name": "ipython",
    "version": 3
   },
   "file_extension": ".py",
   "mimetype": "text/x-python",
   "name": "python",
   "nbconvert_exporter": "python",
   "pygments_lexer": "ipython3",
   "version": "3.11.9"
  }
 },
 "nbformat": 4,
 "nbformat_minor": 2
}
